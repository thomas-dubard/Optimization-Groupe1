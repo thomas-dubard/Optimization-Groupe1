{
 "cells": [
  {
   "cell_type": "markdown",
   "metadata": {},
   "source": [
    "## Notations"
   ]
  },
  {
   "cell_type": "markdown",
   "metadata": {},
   "source": [
    "On note $T$ l'instant.\n",
    "\n",
    "A l'instant $T$, il y a $N(T)$ voitures en chargement numérotées par $j$.\n",
    "\n",
    "\n",
    "\n",
    "On note $e_j(T)$ l'état réel de charge de la voiture $j$ à l'instant $T$. \n",
    "\n",
    "Il y a $n$ chargeurs numérotés par $k$.\n",
    "\n",
    "On note $I_k(T)$ l'intensité que délivre le $k$-ième chargeur à l'instant $T$.\n",
    "\n",
    "On note $I_{totale}(T)$ l'intensité totale délivrée par tous les chargeurs de la station à l'instant $T$.\n",
    "\n",
    "On note $P_k(T)$ la puissance de la borne $k$ à l'instant $T$ et  $P_{totale}(T)$ celle de l'ensemble des bornes. On note $P_{max}$ la puissance maximale supportée par le réseau."
   ]
  },
  {
   "cell_type": "markdown",
   "metadata": {},
   "source": [
    "## Q.1"
   ]
  },
  {
   "cell_type": "markdown",
   "metadata": {},
   "source": [
    "On pose $C$ la fonction de coût de l'électricté en $Euro/Wh$ définie par $C(T) =\\left\\{\n",
    "\\begin{array}{l}\n",
    "  c_{creux} si T est pendant l'intervalle creux\\\\\n",
    "  c_{plein} sinon\n",
    "\\end{array}\n",
    "\\right.$\n",
    "\n",
    "avec $c_{creux}$ et $c_{plein}$ des constantes.\n",
    "\n",
    "La fonction de prix $p$ est donc définie par $p(T) =  \\int_{0}^{T} C(t)P_{totale}(t) \\, \\mathrm{d}t $.\n",
    "\n",
    "Or : $P_{totale}(T) = RI_{totale}(T)^2$.\n",
    "\n",
    "Comme $R$ est une constante positive, on s'interesse à minimiser la fonction $\\tilde{p}$ définie par $\\tilde{p}(T) =  \\int_{0}^{T} C(t)I_{totale}(t)^2 \\, \\mathrm{d}t $.\n",
    "\n",
    "Or la loi des noeuds donne : $ I_{totale}(T) = \\sum \\limits_{{k=1}}^n I_k(T)$ pour tout $T$.\n",
    "\n",
    "Ainsi, $\\tilde{p}(T) =  \\int_{0}^{T} C(t)(\\sum \\limits_{{k=1}}^n I_k(t))^2 \\, \\mathrm{d}t $.\n"
   ]
  },
  {
   "cell_type": "markdown",
   "metadata": {},
   "source": [
    "## Q.2"
   ]
  },
  {
   "cell_type": "markdown",
   "metadata": {},
   "source": [
    "Une charge est en $A.h$."
   ]
  },
  {
   "cell_type": "markdown",
   "metadata": {},
   "source": [
    "Supposons que la voiture $j$ soit en train de charger au $k$-ième chargeur.\n",
    "\n",
    "On a : $ e_{j}(t_{j,f}) - e_{j,0} =  \\int_{t_{j,0}}^{t_{j,f}} I_k(t) \\, \\mathrm{d}t = e_{j,f} - e_{j,0}$ si la voiture a bien été chargée.\n",
    "\n",
    "Plus précisément : $\\forall  T \\in [t_{j,0},t_{j,f}], e_{j}(T) - e_{j,0} =  \\int_{t_{j,f}}^{T} I_k(t) \\, \\mathrm{d}t$"
   ]
  },
  {
   "cell_type": "markdown",
   "metadata": {},
   "source": [
    "## Q.4"
   ]
  },
  {
   "cell_type": "markdown",
   "metadata": {},
   "source": [
    "Il y a moins de voitures qui chargent que de chargeurs : $\\forall  T, N(T) \\leqslant n$"
   ]
  },
  {
   "cell_type": "markdown",
   "metadata": {},
   "source": [
    "Toutes les voitures ont effectivement atteint la charge désirée par l'utilisateur lorsqu'il revient la chercher : $\\forall  j, e_{j}(t_{j,f}) = e_{j,f} $"
   ]
  },
  {
   "cell_type": "markdown",
   "metadata": {},
   "source": [
    "La loi des noeuds est vérifiée :  $\\forall  T, I_{totale}(T) = \\sum \\limits_{{k=1}}^n I_k(T)$."
   ]
  },
  {
   "cell_type": "markdown",
   "metadata": {},
   "source": [
    "L'intensité délivrée par chaque borne permet bien d'atteindre l'état final :  $ \\forall  j,  e_{j}(t_{j,f}) - e_{j,0} =  \\int_{t_{j,0}}^{t_{j,f}} I_k(t) \\, \\mathrm{d}t$"
   ]
  },
  {
   "cell_type": "markdown",
   "metadata": {},
   "source": [
    "La puissance totale supportée par le réseau ne peut excéder $P_{max}$ : $\\forall  T, |P_{totale}(T)| \\leqslant P_{max}$ i.e. $\\forall  T, |I_{totale}(T)| \\leqslant \\sqrt{\\frac{P_{max}}{R}}$"
   ]
  },
  {
   "cell_type": "markdown",
   "metadata": {},
   "source": [
    "Aucun fil du réseau ne peut supporter une puissance supérieure à  $P_{max}$ : $\\forall  T, \\forall  k, |P_{k}(T)| \\leqslant P_{max} $ i.e. $\\forall  T, \\forall  k, |I_{k}(T)| \\leqslant \\sqrt{\\frac{P_{max}}{R}}$"
   ]
  },
  {
   "cell_type": "markdown",
   "metadata": {},
   "source": [
    "Les variables de décisions sont les $I_k$. La fonction à minimiser est $\\tilde{p}$ définie à la question 1."
   ]
  },
  {
   "cell_type": "code",
   "execution_count": null,
   "metadata": {},
   "outputs": [],
   "source": []
  },
  {
   "cell_type": "code",
   "execution_count": null,
   "metadata": {},
   "outputs": [],
   "source": []
  },
  {
   "cell_type": "code",
   "execution_count": null,
   "metadata": {},
   "outputs": [],
   "source": []
  }
 ],
 "metadata": {
  "kernelspec": {
   "display_name": "Python 3",
   "language": "python",
   "name": "python3"
  },
  "language_info": {
   "codemirror_mode": {
    "name": "ipython",
    "version": 3
   },
   "file_extension": ".py",
   "mimetype": "text/x-python",
   "name": "python",
   "nbconvert_exporter": "python",
   "pygments_lexer": "ipython3",
   "version": "3.7.4"
  }
 },
 "nbformat": 4,
 "nbformat_minor": 4
}
