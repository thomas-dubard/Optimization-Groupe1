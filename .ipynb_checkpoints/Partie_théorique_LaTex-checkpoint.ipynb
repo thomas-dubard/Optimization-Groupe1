{
 "cells": [
  {
   "cell_type": "markdown",
   "metadata": {},
   "source": [
    "## Notations"
   ]
  },
  {
   "cell_type": "markdown",
   "metadata": {},
   "source": [
    "On note $\\color{red} {T}$ l'instant présent auquel on est en train de faire les calculs.\n",
    "\n",
    "A l'instant $T$, il y a $\\color{red} {N(T)}$ voitures en chargement numérotées par des indices $\\color{red} {j}$.\n",
    "\n",
    "On note $\\color{red} {t_{j,0}}$ le moment où arrive la voiture $j$ et $\\color{red} {t_{j,f}}$ celui où elle part. On note $\\color{red} {SOC_{j,0}}$ le pourcentage de charge de la voiture $j$ au moment où elle arrive (charge relative) et $\\color{red} {SOC_{j,f}}$ celui qu'elle devra avoir atteint. En notant $\\color{red} {e_{j,max}}$ la charge maximale de la voiture $j$ (charge absolue), on a $ \\color{red} {e_{j,0}} = e_{j,max}SOC_{j,0}$ et $\\color{red} { e_{j,f} }= e_{j,max}SOC_{j,f}$ avec $e_{j,0}$ l'état initial de charge de la voiture et $e_{j,f}$ l'état final de charge voulu par l'utilisateur.\n",
    "\n",
    "\n",
    "On note $\\color{red} {e_j(T)}$ l'état réel de charge de la voiture $j$ à l'instant $T$. \n",
    "\n",
    "Il y a $\\color{red} {n}$ chargeurs numérotés par des indices $\\color{red} {k}$.\n",
    "\n",
    "On note $\\color{red} {I_k(T)}$ l'intensité que délivre le $k$-ième chargeur à l'instant $T$.\n",
    "\n",
    "On note $\\color{red} {I_{totale}(T)}$ l'intensité totale délivrée par tous les chargeurs de la station à l'instant $T$, c'est-à-dire l'intensité qui parcourt le câble directement issu du système d'ordonnancement.\n",
    "\n",
    "On note $\\color{red} {P_k(T)}$ la puissance délivrée par la borne $k$ à l'instant $T$ et $\\color{red} {P_{totale}(T)}$ celle délivrée par le système d'ordonnancement à l'ensemble des bornes. On note $\\color{red} {P_{max}}$ la puissance maximale supportée par le réseau."
   ]
  },
  {
   "cell_type": "markdown",
   "metadata": {},
   "source": [
    "## Q.1"
   ]
  },
  {
   "cell_type": "markdown",
   "metadata": {},
   "source": [
    "![Figuré 1 - Exemple d'état de flottes à une station de recharge](Figure1.png)"
   ]
  },
  {
   "cell_type": "markdown",
   "metadata": {},
   "source": [
    " $ \\ \\ \\ \\ \\ \\ \\ \\ \\ \\ \\ \\ \\ \\ \\ \\ \\ \\ \\ \\ \\ \\ \\ \\ \\ \\ \\ \\ \\ \\ \\ \\ \\ \\ \\ \\ \\ \\ \\ \\ \\ \\ \\ \\ \\ \\ \\ \\ \\ \\ \\ \\ \\ \\ \\ \\ \\ \\ \\ \\ \\ \\ \\ \\$**Figuré 1 - Exemple d'état de flottes à une station de recharge**"
   ]
  },
  {
   "cell_type": "markdown",
   "metadata": {},
   "source": [
    "On pose $C$ la fonction de coût de l'électricté en $Euro/Wh$ définie par $C(T) =\\left\\{\n",
    "\\begin{array}{l}\n",
    "  c_{creux} \\ si \\ T \\ est \\ pendant \\ les \\ heures \\ creuses\\\\\n",
    "  c_{plein} \\ sinon\n",
    "\\end{array}\n",
    "\\right.$\n",
    "\n",
    "avec $c_{creux}$ et $c_{plein}$ des constantes positives.\n",
    "\n",
    "La fonction de prix de l'électricité consommée par l'ensemble de la station $p$ est donc définie par $p(T) =  \\int_{0}^{T} C(t)P_{totale}(t) \\, \\mathrm{d}t $.\n",
    "\n",
    "Or : $P_{totale}(T) = RI_{totale}(T)^2$ à chaque instant T.\n",
    "\n",
    "Comme $R$ est une constante strictement positive, on s'intéresse à minimiser la fonction $\\tilde{p}$ définie par $\\tilde{p}(T) =  \\int_{0}^{T} C(t)I_{totale}(t)^2 \\, \\mathrm{d}t $.\n",
    "\n",
    "Or la loi des noeuds donne : $ I_{totale}(T) = \\sum \\limits_{{k=1}}^n I_k(T)$ à chaque instant $T$, d'après le figuré 1 ci-dessus.\n",
    "\n",
    "Ainsi, $\\tilde{p}(T) =  \\int_{0}^{T} C(t)(\\sum \\limits_{{k=1}}^n I_k(t))^2 \\, \\mathrm{d}t $.\n"
   ]
  },
  {
   "cell_type": "markdown",
   "metadata": {},
   "source": [
    "## Q.2"
   ]
  },
  {
   "cell_type": "markdown",
   "metadata": {},
   "source": [
    "Une charge peut s'exprimer en $A.h$."
   ]
  },
  {
   "cell_type": "markdown",
   "metadata": {},
   "source": [
    "Supposons que la voiture $j$ soit en train de charger au $k$-ième chargeur.\n",
    "\n",
    "On a : $ e_{j}(t_{j,f}) - e_{j,0} =  \\int_{t_{j,0}}^{t_{j,f}} I_k(t) \\, \\mathrm{d}t = e_{j,f} - e_{j,0}$ si la voiture a bien été chargée.\n",
    "\n",
    "Plus précisément : $\\forall  T \\in [t_{j,0},t_{j,f}], e_{j}(T) - e_{j,0} =  \\int_{t_{j,f}}^{T} I_k(t) \\, \\mathrm{d}t$"
   ]
  },
  {
   "cell_type": "markdown",
   "metadata": {},
   "source": [
    "## Q.3"
   ]
  },
  {
   "cell_type": "markdown",
   "metadata": {},
   "source": []
  },
  {
   "cell_type": "code",
   "execution_count": null,
   "metadata": {},
   "outputs": [],
   "source": []
  },
  {
   "cell_type": "markdown",
   "metadata": {},
   "source": [
    "## Q.4"
   ]
  },
  {
   "cell_type": "markdown",
   "metadata": {},
   "source": [
    "#### Contraintes"
   ]
  },
  {
   "cell_type": "markdown",
   "metadata": {},
   "source": [
    "1. Il y a moins de voitures qui chargent que de chargeurs : $\\forall  T, N(T) \\leqslant n$\n",
    "1. Toutes les voitures ont effectivement atteint la charge désirée par l'utilisateur lorsqu'il revient la chercher : $\\forall  j, e_{j}(t_{j,f}) = e_{j,f} $\n",
    "1. La loi des noeuds est vérifiée :  $\\forall  T, I_{totale}(T) = \\sum \\limits_{{k=1}}^n I_k(T)$.\n",
    "1. L'intensité délivrée par chaque borne permet bien d'atteindre l'état final :  $ \\forall  j,  e_{j}(t_{j,f}) - e_{j,0} =  \\int_{t_{j,0}}^{t_{j,f}} I_k(t) \\, \\mathrm{d}t$\n",
    "1. Aucun fil du réseau ne peut supporter une puissance supérieure à  $P_{max}$ : $\\forall  T, \\forall  k, |P_{k}(T)| \\leqslant P_{max} $ i.e. $\\forall  T, \\forall  k, |I_{k}(T)| \\leqslant \\sqrt{\\frac{P_{max}}{R}}$\n",
    "1. La puissance totale supportée par le réseau ne peut excéder $P_{max}$ : $\\forall  T, |P_{totale}(T)| \\leqslant P_{max}$ i.e. $\\forall  T, |I_{totale}(T)| \\leqslant \\sqrt{\\frac{P_{max}}{R}}$"
   ]
  },
  {
   "cell_type": "markdown",
   "metadata": {},
   "source": [
    "Remarque : on aurait pu changer la contrainte 6 en imposant $\\forall  T, \\forall  k, 0 \\leqslant P_{k}(T)$ de façon à empêcher une voiture de recharger d'autres voitures. Par convention, cela signifie que $\\forall  T,  \\forall  k,0 \\leqslant I_{k}(T)$."
   ]
  },
  {
   "cell_type": "markdown",
   "metadata": {},
   "source": [
    "#### Variables de décision"
   ]
  },
  {
   "cell_type": "markdown",
   "metadata": {},
   "source": [
    "Les variables de décisions sont les $I_k$."
   ]
  },
  {
   "cell_type": "markdown",
   "metadata": {},
   "source": [
    "#### Fonction objectif"
   ]
  },
  {
   "cell_type": "markdown",
   "metadata": {},
   "source": [
    "La fonction à minimiser est $\\tilde{p}$ définie à la question 1."
   ]
  }
 ],
 "metadata": {
  "kernelspec": {
   "display_name": "Python 3",
   "language": "python",
   "name": "python3"
  },
  "language_info": {
   "codemirror_mode": {
    "name": "ipython",
    "version": 3
   },
   "file_extension": ".py",
   "mimetype": "text/x-python",
   "name": "python",
   "nbconvert_exporter": "python",
   "pygments_lexer": "ipython3",
   "version": "3.7.4"
  }
 },
 "nbformat": 4,
 "nbformat_minor": 4
}
