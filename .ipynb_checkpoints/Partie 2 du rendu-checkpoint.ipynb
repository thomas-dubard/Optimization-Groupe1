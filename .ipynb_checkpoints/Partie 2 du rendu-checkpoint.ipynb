{
 "cells": [
  {
   "cell_type": "markdown",
   "metadata": {},
   "source": [
    "# Partie 2 du rendu"
   ]
  },
  {
   "cell_type": "markdown",
   "metadata": {},
   "source": [
    "Elise Costa et Thomas Dubard"
   ]
  },
  {
   "cell_type": "markdown",
   "metadata": {},
   "source": [
    "# 2/ Etude et résolution numérique"
   ]
  },
  {
   "cell_type": "markdown",
   "metadata": {},
   "source": [
    "## Q.1"
   ]
  },
  {
   "cell_type": "markdown",
   "metadata": {},
   "source": [
    "Pour que $\\tilde{p}$ soit bien définie, il nous suffit d'imposer $c$ et les $P_k$ continues par morceaux (et donc les $I_k$ continues par morceaux et les $q_k$ de classe $C^1$)."
   ]
  },
  {
   "cell_type": "markdown",
   "metadata": {},
   "source": [
    "**On essaie de déterminer si $\\tilde p$ est convexe.** Pour $0 \\leqslant x \\leqslant y$, $\\lambda \\in [0,1]$ :\n",
    "\n",
    "\n",
    "$\\tilde{p}(\\lambda x + (1-\\lambda)y) - \\lambda \\tilde p (x) - (1-\\lambda) \\tilde p (y)=  \\int_{0}^{\\lambda x + (1-\\lambda)y} c(t)P(t) \\, \\mathrm{d}t - \\lambda  \\int_{0}^{x} c(t)P(t) \\, \\mathrm{d}t  - (1-\\lambda)\\int_{0}^{y} c(t)P(t) \\, \\mathrm{d}t   $\n",
    "\n",
    "En posant $f(t) = c(t)P(t)$ pour tout $t$ positif :\n",
    "\n",
    "$\\tilde{p}(\\lambda x + (1-\\lambda)y) - \\lambda \\tilde p (x) - (1-\\lambda) \\tilde p (y)$\n",
    "\n",
    "$= \\lambda ( \\int_{0}^{\\lambda x + (1-\\lambda)y} f(t) \\, \\mathrm{d}t -  \\int_{0}^{x}f(t) \\, \\mathrm{d}t) )$ + $(1-\\lambda)(\\int_{0}^{\\lambda x + (1-\\lambda)y} f(t) \\, \\mathrm{d}t - \\int_{0}^{y} f(t) \\, \\mathrm{d}t ) $\n",
    "\n",
    "$= \\lambda ( \\int_{x}^{\\lambda x + (1-\\lambda)y} f(t) \\, \\mathrm{d}t  - (1-\\lambda)\\int_{\\lambda x + (1-\\lambda)y}^{y} f(t) \\, \\mathrm{d}t $ par la relation de Chasles\n",
    "\n",
    "$= \\lambda \\int_{x}^{y} f(t) \\, \\mathrm{d}t - \\int_{\\lambda x + (1-\\lambda)y}^{y} f(t) \\, \\mathrm{d}t $\n",
    "\n",
    "$\\leqslant  \\underbrace{(1 - \\lambda)}_{\\leqslant 0} \\int_{x}^{y} \\underbrace{f(t)}_{\\ge 0} \\mathrm{d}t $ car $x \\leqslant y$\n",
    "\n",
    "$ \\leqslant 0$\n",
    "\n",
    "Donc  $\\tilde p$ en convexe en $T$ (et elle est convexe en $P_k$ par linéarité de l'intégrale).\n",
    "\n",
    "\n",
    "Donc le problème est convexe."
   ]
  },
  {
   "cell_type": "markdown",
   "metadata": {},
   "source": [
    "Par continuité de l'intégrale, $\\tilde p$ est continue sur le compact $[0, T_{\\infty}]x[0,P_{max}]^n$ ( où $T_{\\infty}$ serait le temps de vie de la station ou un temps d'étude). Donc **il existe un minimum global**."
   ]
  },
  {
   "cell_type": "markdown",
   "metadata": {},
   "source": [
    "A priori, **il n'est pas unique** : si deux voitures ont les mêmes caractéristiques, alors leurs profils de charge seront identiques ou complémentaires."
   ]
  },
  {
   "cell_type": "markdown",
   "metadata": {},
   "source": [
    "On va résoudre ce problème avec **l'algorithme des contraintes actives QP**."
   ]
  },
  {
   "cell_type": "markdown",
   "metadata": {},
   "source": [
    "# Q.2"
   ]
  },
  {
   "cell_type": "markdown",
   "metadata": {},
   "source": [
    "### Ordres de grandeur :\n",
    "\n",
    "$U_{réseau} = 230V$\n",
    "\n",
    "$\\forall k, P_k \\simeq 10-100kW$\n",
    "\n",
    "$\\forall k, \\Delta t_k = t_{k,f} - t_{k,i} \\simeq 2-12h$\n",
    "\n",
    "capacité énergétique $\\simeq 20-100kWh$\n",
    "\n",
    "$I_k =\\left\\{\n",
    "\\begin{array}{l}\n",
    "  40 A \\ si \\ superchargeurs \\ (Tesla...) \\\\\n",
    "  \\simeq 5 A \\ chargeurs \\ normaux\n",
    "\\end{array}\n",
    "\\right.$\n"
   ]
  },
  {
   "cell_type": "markdown",
   "metadata": {},
   "source": [
    "### Algorithme de résolution :"
   ]
  },
  {
   "cell_type": "code",
   "execution_count": 10,
   "metadata": {},
   "outputs": [],
   "source": [
    "# les importations nécessaires :\n",
    "\n",
    "import matplotlib.pyplot as plt\n",
    "import numpy as np\n",
    "import random\n",
    "import math\n",
    "import time"
   ]
  },
  {
   "cell_type": "markdown",
   "metadata": {},
   "source": [
    "On se place directement entre $t_0$ et $t_f$.\n",
    "Alors N correspond à l'échantillonage entre les deux.\n",
    "Dans cette étude, le coût et le nombre de points sont déterminants.\n",
    "En effet, ils influent beaucoup sur le temps d'éxécution."
   ]
  },
  {
   "cell_type": "code",
   "execution_count": 2,
   "metadata": {},
   "outputs": [
    {
     "ename": "NameError",
     "evalue": "name 'np' is not defined",
     "output_type": "error",
     "traceback": [
      "\u001b[1;31m---------------------------------------------------------------------------\u001b[0m",
      "\u001b[1;31mNameError\u001b[0m                                 Traceback (most recent call last)",
      "\u001b[1;32m<ipython-input-2-640293bef453>\u001b[0m in \u001b[0;36m<module>\u001b[1;34m\u001b[0m\n\u001b[0;32m     11\u001b[0m \u001b[0mIn_plus\u001b[0m \u001b[1;33m=\u001b[0m \u001b[1;33m[\u001b[0m\u001b[1;33m[\u001b[0m\u001b[1;36m0\u001b[0m \u001b[1;32mif\u001b[0m \u001b[0mx\u001b[0m\u001b[1;33m!=\u001b[0m\u001b[0mk\u001b[0m \u001b[1;32melse\u001b[0m \u001b[1;36m1\u001b[0m \u001b[1;32mfor\u001b[0m \u001b[0mx\u001b[0m \u001b[1;32min\u001b[0m \u001b[0mrange\u001b[0m\u001b[1;33m(\u001b[0m\u001b[0mN\u001b[0m\u001b[1;33m)\u001b[0m\u001b[1;33m]\u001b[0m \u001b[1;32mfor\u001b[0m \u001b[0mk\u001b[0m \u001b[1;32min\u001b[0m \u001b[0mrange\u001b[0m\u001b[1;33m(\u001b[0m\u001b[0mN\u001b[0m\u001b[1;33m)\u001b[0m\u001b[1;33m]\u001b[0m\u001b[1;33m\u001b[0m\u001b[1;33m\u001b[0m\u001b[0m\n\u001b[0;32m     12\u001b[0m \u001b[0mIn_moins\u001b[0m \u001b[1;33m=\u001b[0m \u001b[1;33m[\u001b[0m\u001b[1;33m[\u001b[0m\u001b[1;36m0\u001b[0m \u001b[1;32mif\u001b[0m \u001b[0mx\u001b[0m\u001b[1;33m!=\u001b[0m\u001b[0mk\u001b[0m \u001b[1;32melse\u001b[0m \u001b[1;33m-\u001b[0m\u001b[1;36m1\u001b[0m \u001b[1;32mfor\u001b[0m \u001b[0mx\u001b[0m \u001b[1;32min\u001b[0m \u001b[0mrange\u001b[0m\u001b[1;33m(\u001b[0m\u001b[0mN\u001b[0m\u001b[1;33m)\u001b[0m\u001b[1;33m]\u001b[0m \u001b[1;32mfor\u001b[0m \u001b[0mk\u001b[0m \u001b[1;32min\u001b[0m \u001b[0mrange\u001b[0m\u001b[1;33m(\u001b[0m\u001b[0mN\u001b[0m\u001b[1;33m)\u001b[0m\u001b[1;33m]\u001b[0m\u001b[1;33m\u001b[0m\u001b[1;33m\u001b[0m\u001b[0m\n\u001b[1;32m---> 13\u001b[1;33m \u001b[0mA\u001b[0m \u001b[1;33m=\u001b[0m \u001b[0mnp\u001b[0m\u001b[1;33m.\u001b[0m\u001b[0marray\u001b[0m\u001b[1;33m(\u001b[0m\u001b[1;33m[\u001b[0m\u001b[1;33m[\u001b[0m\u001b[1;33m-\u001b[0m\u001b[1;33m(\u001b[0m\u001b[0mt_f\u001b[0m \u001b[1;33m-\u001b[0m \u001b[0mt_i\u001b[0m\u001b[1;33m)\u001b[0m\u001b[1;33m/\u001b[0m\u001b[1;33m(\u001b[0m\u001b[0mN\u001b[0m\u001b[1;33m*\u001b[0m\u001b[0mU\u001b[0m\u001b[1;33m)\u001b[0m\u001b[1;33m]\u001b[0m\u001b[1;33m*\u001b[0m\u001b[0mN\u001b[0m\u001b[1;33m]\u001b[0m \u001b[1;33m+\u001b[0m \u001b[0mIn_moins\u001b[0m \u001b[1;33m+\u001b[0m \u001b[0mIn_plus\u001b[0m\u001b[1;33m)\u001b[0m\u001b[1;33m\u001b[0m\u001b[1;33m\u001b[0m\u001b[0m\n\u001b[0m\u001b[0;32m     14\u001b[0m \u001b[0mcst_pk\u001b[0m \u001b[1;33m=\u001b[0m \u001b[1;36m0.1\u001b[0m\u001b[1;33m\u001b[0m\u001b[1;33m\u001b[0m\u001b[0m\n",
      "\u001b[1;31mNameError\u001b[0m: name 'np' is not defined"
     ]
    }
   ],
   "source": [
    "# les constantes :\n",
    "\n",
    "U = 230.0\n",
    "Qf = 15.0\n",
    "Qi = 0.0\n",
    "t_f = 10.0\n",
    "t_i = 0.0\n",
    "P_max = 1.5*(Qf-Qi)/(t_f - t_i) * U # on triche un peu ...\n",
    "P_0 = [(Qf-Qi)/(t_f - t_i) * U]*N\n",
    "W_0 = set([0])\n",
    "In_plus = [[0 if x!=k else 1 for x in range(N)] for k in range(N)]\n",
    "In_moins = [[0 if x!=k else -1 for x in range(N)] for k in range(N)]\n",
    "A = np.array([[-(t_f - t_i)/(N*U)]*N] + In_moins + In_plus)\n",
    "cst_pk = 0.1"
   ]
  },
  {
   "cell_type": "code",
   "execution_count": 3,
   "metadata": {},
   "outputs": [
    {
     "ename": "NameError",
     "evalue": "name 'np' is not defined",
     "output_type": "error",
     "traceback": [
      "\u001b[1;31m---------------------------------------------------------------------------\u001b[0m",
      "\u001b[1;31mNameError\u001b[0m                                 Traceback (most recent call last)",
      "\u001b[1;32m<ipython-input-3-906c25f5219e>\u001b[0m in \u001b[0;36m<module>\u001b[1;34m\u001b[0m\n\u001b[0;32m      4\u001b[0m \u001b[1;31m#c = np.array([1.0 for _ in range(N)]) # coût constant\u001b[0m\u001b[1;33m\u001b[0m\u001b[1;33m\u001b[0m\u001b[1;33m\u001b[0m\u001b[0m\n\u001b[0;32m      5\u001b[0m \u001b[1;31m#c = np.array([2.0*(math.cos(i) + 1.1) for i in range(N)]) # coût oscillant\u001b[0m\u001b[1;33m\u001b[0m\u001b[1;33m\u001b[0m\u001b[1;33m\u001b[0m\u001b[0m\n\u001b[1;32m----> 6\u001b[1;33m \u001b[0mc\u001b[0m \u001b[1;33m=\u001b[0m \u001b[0mnp\u001b[0m\u001b[1;33m.\u001b[0m\u001b[0marray\u001b[0m\u001b[1;33m(\u001b[0m\u001b[1;33m[\u001b[0m\u001b[1;33m(\u001b[0m\u001b[1;36m2.0\u001b[0m\u001b[1;33m*\u001b[0m\u001b[1;33m(\u001b[0m\u001b[0mi\u001b[0m\u001b[1;33m%\u001b[0m\u001b[1;36m3\u001b[0m\u001b[1;33m)\u001b[0m \u001b[1;33m+\u001b[0m \u001b[1;36m1.0\u001b[0m\u001b[1;33m)\u001b[0m \u001b[1;32mfor\u001b[0m \u001b[0mi\u001b[0m \u001b[1;32min\u001b[0m \u001b[0mrange\u001b[0m\u001b[1;33m(\u001b[0m\u001b[0mN\u001b[0m\u001b[1;33m)\u001b[0m\u001b[1;33m]\u001b[0m\u001b[1;33m)\u001b[0m \u001b[1;31m# coût \"triangulaire\"\u001b[0m\u001b[1;33m\u001b[0m\u001b[1;33m\u001b[0m\u001b[0m\n\u001b[0m",
      "\u001b[1;31mNameError\u001b[0m: name 'np' is not defined"
     ]
    }
   ],
   "source": [
    "# Les constantes déterminantes\n",
    "\n",
    "N = 100\n",
    "#c = np.array([1.0 for _ in range(N)]) # coût constant\n",
    "#c = np.array([2.0*(math.cos(i) + 1.1) for i in range(N)]) # coût oscillant\n",
    "c = np.array([(2.0*(i%3) + 1.0) for i in range(N)]) # coût \"triangulaire\""
   ]
  },
  {
   "cell_type": "markdown",
   "metadata": {},
   "source": [
    "Les constantes ci-dessous vont directement influer sur le temps de calcul, comme constaté expérimentalement dans ce qui suit."
   ]
  },
  {
   "cell_type": "code",
   "execution_count": 5,
   "metadata": {},
   "outputs": [],
   "source": [
    "# les fonctions intermédiaires\n",
    "\n",
    "def fun(x):\n",
    "    return np.dot(c, x)\n",
    "\n",
    "def grad_fun(x):\n",
    "    return c\n",
    "\n",
    "def grad_c(x):\n",
    "    return A.T\n",
    "\n",
    "def cont(x):\n",
    "    c1 = [(Qf - Qi) - (t_f - t_i)*sum(y for y in x)/(N * U)]\n",
    "    c2 = [-y for y in x]\n",
    "    c3 = [y - P_max for y in x]\n",
    "    return np.array(c1 + c2 + c3)\n",
    "\n",
    "def test_min(lamb):\n",
    "    for l in lamb:\n",
    "        if l!=None and l <= 0.0:\n",
    "            return False\n",
    "    return True"
   ]
  },
  {
   "cell_type": "markdown",
   "metadata": {},
   "source": [
    "Le code qui suit a été réalisé indépendamment des ordres de grandeur et visait à vérifier le bon fonctionnement de l'algorithme dans des conditions idéales choisies à la main, sans considération pour la situation réelle représentée."
   ]
  },
  {
   "cell_type": "code",
   "execution_count": 6,
   "metadata": {},
   "outputs": [
    {
     "ename": "NameError",
     "evalue": "name 'np' is not defined",
     "output_type": "error",
     "traceback": [
      "\u001b[1;31m---------------------------------------------------------------------------\u001b[0m",
      "\u001b[1;31mNameError\u001b[0m                                 Traceback (most recent call last)",
      "\u001b[1;32m<ipython-input-6-0b1ef241eb3f>\u001b[0m in \u001b[0;36m<module>\u001b[1;34m\u001b[0m\n\u001b[0;32m      1\u001b[0m \u001b[1;31m# la fonction principale\u001b[0m\u001b[1;33m\u001b[0m\u001b[1;33m\u001b[0m\u001b[1;33m\u001b[0m\u001b[0m\n\u001b[0;32m      2\u001b[0m \u001b[1;33m\u001b[0m\u001b[0m\n\u001b[1;32m----> 3\u001b[1;33m \u001b[1;32mdef\u001b[0m \u001b[0mcontraintesactivesOQP\u001b[0m\u001b[1;33m(\u001b[0m\u001b[0mc\u001b[0m\u001b[1;33m,\u001b[0m \u001b[0mxk\u001b[0m\u001b[1;33m=\u001b[0m\u001b[0mP_0\u001b[0m\u001b[1;33m,\u001b[0m \u001b[0mlambdak\u001b[0m\u001b[1;33m=\u001b[0m\u001b[0mnp\u001b[0m\u001b[1;33m.\u001b[0m\u001b[0marray\u001b[0m\u001b[1;33m(\u001b[0m\u001b[1;33m[\u001b[0m\u001b[1;36m0.0\u001b[0m\u001b[1;33m]\u001b[0m\u001b[1;33m*\u001b[0m\u001b[1;33m(\u001b[0m\u001b[1;36m2\u001b[0m\u001b[1;33m*\u001b[0m\u001b[0mN\u001b[0m \u001b[1;33m+\u001b[0m \u001b[1;36m1\u001b[0m\u001b[1;33m)\u001b[0m\u001b[1;33m)\u001b[0m\u001b[1;33m,\u001b[0m \u001b[0mW\u001b[0m\u001b[1;33m=\u001b[0m\u001b[0mW_0\u001b[0m\u001b[1;33m)\u001b[0m\u001b[1;33m:\u001b[0m\u001b[1;33m\u001b[0m\u001b[1;33m\u001b[0m\u001b[0m\n\u001b[0m\u001b[0;32m      4\u001b[0m     \u001b[0mdebut\u001b[0m \u001b[1;33m=\u001b[0m \u001b[0mtime\u001b[0m\u001b[1;33m.\u001b[0m\u001b[0mtime\u001b[0m\u001b[1;33m(\u001b[0m\u001b[1;33m)\u001b[0m\u001b[1;33m\u001b[0m\u001b[1;33m\u001b[0m\u001b[0m\n\u001b[0;32m      5\u001b[0m     \"\"\"\n",
      "\u001b[1;31mNameError\u001b[0m: name 'np' is not defined"
     ]
    }
   ],
   "source": [
    "# la fonction principale\n",
    "\n",
    "def contraintesactivesOQP(c, xk=P_0, lambdak=np.array([0.0]*(2*N + 1)), W=W_0):\n",
    "    debut = time.time()\n",
    "    \"\"\"\n",
    "    On implémente l'algorithme des contraintes actives QP.\n",
    "    On part du profil de puissance constante.\n",
    "    On est ici avec G=0, f(x)=x*c, c(x)=Ax-b\n",
    "    où A=(-T/NU ... -T/NU) et b=(Qi - Qf)\n",
    "         (     -In       )      (   0   )\n",
    "         (      In       )      (  Pmax )\n",
    "    Dans l'étape (a) on cherche une direction pour la recherche.\n",
    "    On la choisit aléatoirement selon un protocole préétabli.\n",
    "    Elle est telle que A*p=0, ce qui est garanti par notre choix simple.\n",
    "    Elle minimise c*p.\n",
    "    Dans l'étape (b) on va ensuite traiter le cas où la direction est non nulle.\n",
    "    D'abord on calcule alpha à partir des contraintes.\n",
    "    Puis on va (ou non) ajouter une contrainte à l'ensemble de travail.\n",
    "    Cette étape est opérée en fonction du résultat de l'étape (a).\n",
    "    Dans l'étape (c) on traite le cas où pk est nulle.\n",
    "    On va mettre à jour les multiplicateurs de Lagrange.\n",
    "    Pour cela on utilise un gradient à pas constant.\n",
    "    Puis on élimine le plus petit.\n",
    "    \"\"\"\n",
    "    compteur = 0\n",
    "    while (not test_min(lambdak)) and all(y<=0.05 for y in cont(xk)):\n",
    "        compteur += 1\n",
    "        # print(f\"itération {compteur}, lambdak = {lambdak}\")\n",
    "        xswap = xk\n",
    "        # (a) direction pk\n",
    "        # print(\"a\")\n",
    "        pk = [0]*N\n",
    "        #On regarde quels indices sont bloqués par les contraintes.\n",
    "        indice = []\n",
    "        for i in W:\n",
    "            if 1 < i <= N:\n",
    "                indice.append(i - 1)\n",
    "            else:\n",
    "                indice.append(i - N - 1)\n",
    "        indice = set(indice)\n",
    "        if len(indice) < N - 3 and 0 in W:\n",
    "            # Cf preuve après.\n",
    "            liste = [x for x in range(N) if not x in indice]\n",
    "            i1 = random.randint(0, len(liste)-1)\n",
    "            y1 = liste.pop(i1)\n",
    "            i2 = random.randint(0, len(liste)-1)\n",
    "            y2 = liste.pop(i2)\n",
    "            i3 = random.randint(0, len(liste)-1)\n",
    "            y3 = liste.pop(i3)\n",
    "            sens = 2*random.randint(0, 1) - 1\n",
    "            if c[y1] != c[y2]:\n",
    "                pk[y1] = sens*(c[y2] - c[y3])/(c[y1] - c[y2])\n",
    "                pk[y2] = sens*(c[y1] - c[y3])/(c[y2] - c[y1])\n",
    "                pk[y3] = sens*1\n",
    "            else:\n",
    "                pk[y1] = 0\n",
    "                pk[y2] = -sens\n",
    "                pk[y3] = sens\n",
    "            # (b) pk != 0\n",
    "            # légitime car coût non nul à tout instant\n",
    "            norm_pk = (sum(x**2 for x in pk))**0.5\n",
    "            pk = [x/(cst_pk*norm_pk) for x in pk]\n",
    "            # print(f\"b : pk={pk}, W={W}\")\n",
    "            swap = [1] + [None]*(2*N + 1)\n",
    "            if not 0 in W and pk[y1] + pk[y2] + pk[y3] < 0:\n",
    "                z = (Qi - Qf + (t_f - t_i)*sum(y for y in xk)/(N * U))\n",
    "                swap[1] = (-z/(t_f - t_i)*(pk[y1] + pk[y2] + pk[y3])/(N * U))\n",
    "            for i in range(1, N+1):\n",
    "                if not i in W and pk[i-1] < 0:\n",
    "                    swap[i+1] = (-xk[i-1]/pk[i-1])\n",
    "                if not (i+N) in W and pk[i-1] > 0:\n",
    "                    swap[i+1] = (xk[i-1]/pk[i-1])\n",
    "            alphak = min(x for x in swap if x != None)\n",
    "            xk = np.array([xk[i] + alphak * pk[i] for i in range(N)])\n",
    "            if alphak < 1:\n",
    "                j = 0\n",
    "                while swap[j] != alphak:\n",
    "                    j += 1\n",
    "                W.add(j)\n",
    "            # print(f\"xk={xk}, W={W}\")\n",
    "        elif len(indice) < N - 2 and not 0 in W:\n",
    "            # Cf preuve après.\n",
    "            liste = [x for x in range(N) if not x in indice]\n",
    "            i1 = random.randint(0, len(liste)-1)\n",
    "            y1 = liste.pop(i1)\n",
    "            i2 = random.randint(0, len(liste)-1)\n",
    "            y2 = liste.pop(i2)\n",
    "            sens = 2*random.randint(0, 1) - 1\n",
    "            pk[y1] = sens*c[y2]\n",
    "            pk[y2] = -sens*c[y1]\n",
    "            # (b) pk != 0\n",
    "            # légitime car coût non nul à tout instant\n",
    "            norm_pk = (sum(x**2 for x in pk))**0.5\n",
    "            pk = [x/(cst_pk*norm_pk) for x in pk]\n",
    "            # print(f\"b : pk={pk}, W={W}\")\n",
    "            swap = [1] + [None]*(2*N + 1)\n",
    "            if not 0 in W and pk[y1] + pk[y2] < 0:\n",
    "                z = (Qi - Qf + (t_f - t_i)*sum(y for y in xk)/(N * U))\n",
    "                swap[1] = (-z/(t_f - t_i)*(pk[y1] + pk[y2])/(N * U))\n",
    "            for i in range(N+1):\n",
    "                if not i in W and pk[i-1] < 0:\n",
    "                    swap[i+1] = (-xk[i-1]/pk[i-1])\n",
    "                if not (i+N) in W and pk[i-1] > 0:\n",
    "                    swap[i+1] = (xk[i-1]/pk[i-1])\n",
    "            alphak = min(x for x in swap if x != None)\n",
    "            xk = np.array([xk[i] + alphak * pk[i] for i in range(N)])\n",
    "            if alphak < 1:\n",
    "                j = 0\n",
    "                while swap[j] != alphak:\n",
    "                    j += 1\n",
    "                W.add(j)\n",
    "            # print(f\"xk={xk}, W={W}\")\n",
    "        # (c) pk = 0\n",
    "        # Cf preuve après.\n",
    "        def grad_lag(xk, lambdak):\n",
    "            lambdak_full = np.array([0 if x==None else x for x in lambdak])\n",
    "            return grad_fun(xk) + np.dot(A.T, lambdak_full)\n",
    "        def step_c(xk, lk, grad_f, grad_l, c, alpha=1e-2, maxit=1e3, eps=1e-8):\n",
    "            i = 0\n",
    "            grad_l_xk = grad_l(xk, lk)\n",
    "            while (i < maxit) and (np.linalg.norm(grad_l_xk > eps)):\n",
    "                i += 1\n",
    "                grad_l_xk = grad_l(xk, lk)\n",
    "                xk = xk - alpha*grad_l_xk\n",
    "                c_xk = c(xk)\n",
    "                for j in range(len(lk)):\n",
    "                    if j in W:\n",
    "                        if lk[j] != None:\n",
    "                            lk[j] = min(0, lk[j] + alpha*c_xk[j])\n",
    "                        else:\n",
    "                            lk[j] = min(0, alpha*c_xk[j])\n",
    "                    else:\n",
    "                        lk[j] = None\n",
    "            return xk, lk\n",
    "        if pk == [0]*N:\n",
    "            # print(f\"c : pk={pk}\")\n",
    "            # Mise à jour des lambdas\n",
    "            xk, lambdak = step_c(xk, lambdak, grad_fun, grad_lag, cont)\n",
    "            # On met à jour W et on édite lambda en conséquence.\n",
    "            lambdaswap = []\n",
    "            for i in range(2*N + 1):\n",
    "                if not i in W:\n",
    "                    lambdaswap.append(None)\n",
    "                else:\n",
    "                    lambdaswap.append(lambdak[i])\n",
    "            lambdak = np.array(lambdaswap)\n",
    "            def swap_choose(lamdbak):\n",
    "                i = 0\n",
    "                while i < len(lambdak) and lambdak[i] == None:\n",
    "                    i += 1\n",
    "                return i, lambdak[i]\n",
    "            swap = swap_choose(lambdak)\n",
    "            for i in range(len(lambdak)):\n",
    "                if lambdak[i] != None and lambdak[i] < swap[1]:\n",
    "                    swap = i, lambdak[i]\n",
    "            if swap[1] <= 0:\n",
    "                xk = xswap\n",
    "                W = set(x for x in W if x != swap[0])\n",
    "            # print(f\"xk={xk}, W={W}\")\n",
    "            lambdaswap = []\n",
    "            for i in range(2*N + 1):\n",
    "                if not i in W:\n",
    "                    lambdaswap.append(None)\n",
    "                else:\n",
    "                    lambdaswap.append(lambdak[i])\n",
    "            lambdak = np.array(lambdaswap)\n",
    "    fin = time.time()\n",
    "    print(f\"ça a pris {fin - debut} secondes pour N={N}, cont={cont(xk)} !\")\n",
    "    c = [x*(np.mean(xk)/np.mean(c)) for x in c]\n",
    "    plt.plot(list(range(N)), xswap, color='red', label='puissance')\n",
    "    plt.plot(list(range(N)), c, color='blue', label='coût')\n",
    "    plt.plot(list(range(N)), [P_max]*N, color='green', label='Pmax')\n",
    "    plt.plot(list(range(N)), P_0, color='yellow', label='solution constante')\n",
    "    plt.show()\n",
    "    return xswap"
   ]
  },
  {
   "cell_type": "markdown",
   "metadata": {},
   "source": [
    "Preuve cas $len(indice) < N-3$ et $0 \\in W$ :\n",
    "\n",
    "    * on choisit au hasard trois directions hors d'indice\n",
    "    * on doit alors choisir $p_i$, $p_j$, $p_k$ dans ces coordonnées tels que :\n",
    "\n",
    "$\\left\\{\n",
    "\\begin{array}{l}\n",
    "  c_ip_i + c_jp_j + c_kp_k = 0 \\\\\n",
    "  p_i + p_j + p_k = 0\n",
    "\\end{array}\n",
    "\\right.$\n",
    "\n",
    "On choisit $p_k = 1$ donc :\n",
    "\n",
    "$\\left\\{\n",
    "\\begin{array}{l}\n",
    "  (c_i - c_j)p_i = c_j - c_k \\\\\n",
    "  (c_j - c_i)p_j = c_i - c_k\n",
    "\\end{array}\n",
    "\\right.$\n",
    "\n",
    "Preuve cas $len(indice) < N-2$ et $0 \\in W$ :\n",
    "\n",
    "    * on choisit au hasard deux directions hors d'indice\n",
    "    * on doit alors choisir p_i, p_j dans ces coordonnées tels que :\n",
    "    \n",
    "$c_ip_i + c_jp_j = 0$, on choisit $p_i = c_j$ et $p_j = -c_i$\n",
    "\n",
    "Preuve cas restant :\n",
    "\n",
    "    * on a au mieux un indice de libre mais $c_ip_i = 0$ le rend nul et les contraintes annulant tous les autres indices"
   ]
  },
  {
   "cell_type": "markdown",
   "metadata": {},
   "source": [
    "### Commentaire sur les résultats :\n",
    "L'algorithme ci-dessus ne fonctionne pas. On est obligé de le bloquer à l'instant où il s'apprête à quitter le domaine défini par les conditions (tout particulièrement celle de majoration par $P_max$).\n",
    "Ci-dessous des exemples de résultats obtenus :"
   ]
  },
  {
   "cell_type": "markdown",
   "metadata": {},
   "source": [
    "![Figuré 1 - Résumé des résultats](temps.png)"
   ]
  },
  {
   "cell_type": "markdown",
   "metadata": {},
   "source": [
    "#### Figuré 1 - Temps de compilation en fonction du nombre de points et du profil de coût choisi"
   ]
  },
  {
   "cell_type": "markdown",
   "metadata": {},
   "source": [
    "Le coût augmente avec le nombre de points et dépend \"aléatoirement\" du profil de coût choisi.\n",
    "(La baisse pour 15 points en triangulaire est un artefact dû au fait que les multiples de 3 sont favorisés par la construction même de ce profil de coût.)"
   ]
  },
  {
   "cell_type": "markdown",
   "metadata": {},
   "source": [
    "**Légende :** <br>\n",
    "<span style=\"color:red\">$Résultat$</span> <br>\n",
    "<span style=\"color:green\">$P_{max}$</span> <br>\n",
    "<span style=\"color:blue\">$Coût$</span> <br>\n",
    "<span style=\"color:yellow\">$Solution constante$</span>"
   ]
  },
  {
   "cell_type": "markdown",
   "metadata": {},
   "source": [
    "![Figuré 2 - Coût sinusoïdal pour 7 points](Figure_7.png)"
   ]
  },
  {
   "cell_type": "markdown",
   "metadata": {},
   "source": [
    "#### Figuré 2 - Coût sinusoïdal pour 7 points"
   ]
  },
  {
   "cell_type": "markdown",
   "metadata": {},
   "source": [
    "![Figuré 3 - Coût triangulaire pour 5 points](Figure_5tri.png)"
   ]
  },
  {
   "cell_type": "markdown",
   "metadata": {},
   "source": [
    "#### Figuré 3 - Coût triangulaire pour 5 points"
   ]
  },
  {
   "cell_type": "markdown",
   "metadata": {},
   "source": [
    "![Figuré 4 - Coût constant pour 15 points](Figure_15cst.png)"
   ]
  },
  {
   "cell_type": "markdown",
   "metadata": {},
   "source": [
    "#### Figuré 4 - Coût constant pour 15 points"
   ]
  },
  {
   "cell_type": "markdown",
   "metadata": {},
   "source": [
    "# Etude avancée"
   ]
  },
  {
   "cell_type": "markdown",
   "metadata": {},
   "source": [
    "## Q.3"
   ]
  },
  {
   "cell_type": "markdown",
   "metadata": {},
   "source": [
    "Par linéarité de l'intégrale, on peut décomposer $\\tilde p$ en :\n",
    "\n",
    "$\\tilde p(T,P_1,...,P_n) = \\sum \\limits_{{k=1}}^n  \\int_{0}^{T} c(t)P_k(t) \\, \\mathrm{d}t = \\sum \\limits_{{k=1}}^n \\tilde p_k(T,P_k) $\n",
    "\n",
    "Néanmoins, on ne peut pas opérer cette décomposition sur la contrainte somme, car il est nécessaire d'avoir interdépendance :\n",
    "\n",
    "$contrainte(T,P_1,...,P_n) = \\sum \\limits_{{k=1}}^n P_k - P_{max} \\leqslant 0$\n",
    "\n",
    "Il faudrait répartir le facteur $P_{max}$ entre les $P_k$ ce qui est justement le but du problème."
   ]
  },
  {
   "cell_type": "markdown",
   "metadata": {},
   "source": [
    "## Q.4"
   ]
  },
  {
   "cell_type": "markdown",
   "metadata": {},
   "source": [
    "Pour contourner le problème ci-dessus on répartit équitablement $P_{max}$ entre les contraintes à chaque étape en se basant sur l'équilibre entre les puissances des voitures, grâce à un facteur $\\cfrac{P_i}{\\sum \\limits_{{k=1}}^n P_k}$."
   ]
  },
  {
   "cell_type": "code",
   "execution_count": 7,
   "metadata": {},
   "outputs": [],
   "source": [
    "# Les importations\n",
    "import matplotlib.pyplot as plt\n",
    "import numpy as np\n",
    "import math\n",
    "import time"
   ]
  },
  {
   "cell_type": "code",
   "execution_count": 8,
   "metadata": {},
   "outputs": [],
   "source": [
    "# Les constantes\n",
    "Qf1 = 15.0\n",
    "Qi1 = 2.0\n",
    "Qf2 = 13.0\n",
    "Qi2 = 7.0\n",
    "tf1 = 24.0\n",
    "ti1 = 7.0\n",
    "tf2 = 17.0\n",
    "ti2 = 9.0\n",
    "Pmax = max(1.5*(Qf1-Qi1)/(tf1 - ti1) * U, 1.5*(Qf2-Qi2)/(tf2 - ti2) * U)\n",
    "In_plus = [[0 if x!=k else 1 for x in range(N)] for k in range(N)]\n",
    "In_moins = [[0 if x!=k else -1 for x in range(N)] for k in range(N)]\n",
    "A1 = np.array([[-(tf1 - ti1)/(N*U)]*N] + In_moins + In_plus)\n",
    "A2 = np.array([[-(tf2 - ti2)/(N*U)]*N] + In_moins + In_plus)"
   ]
  },
  {
   "cell_type": "code",
   "execution_count": 9,
   "metadata": {},
   "outputs": [],
   "source": [
    "# Les constantes déterminantes\n",
    "N = 10\n",
    "U = 230.0\n",
    "#c = np.array([1.0 for _ in range(N)]) # coût constant\n",
    "#c = np.array([2.0*(math.cos(i) + 1.1) for i in range(N)]) # coût oscillant\n",
    "c = np.array([(2.0*(i%3) + 1.0) for i in range(N)]) # coût \"triangulaire\""
   ]
  },
  {
   "cell_type": "code",
   "execution_count": 11,
   "metadata": {},
   "outputs": [],
   "source": [
    "# Les fonctions intermédiaires\n",
    "def funi(x):\n",
    "    return np.dot(c, x)\n",
    "\n",
    "def grad_funi(x):\n",
    "    return c\n",
    "\n",
    "def grad_c1(x):\n",
    "    return A1.T\n",
    "\n",
    "def grad_c2(x):\n",
    "    return A2.T\n",
    "\n",
    "def cont1(x1, x2):\n",
    "    c1 = [(Qf1 - Qi1) - (tf1 - ti1)*sum(y for y in x1)/(N * U)]\n",
    "    c2 = [-y for y in x1]\n",
    "    c3 = [x1[i]* (1 - P_max/(x1[i] + x2[i])) for i in range(N)]\n",
    "    return np.array(c1 + c2 + c3)\n",
    "\n",
    "def cont2(x1, x2):\n",
    "    c1 = [(Qf2 - Qi2) - (tf2 - ti2)*sum(y for y in x2)/(N * U)]\n",
    "    c2 = [-y for y in x2]\n",
    "    c3 = [x2[i]* (1 - P_max/(x1[i] + x2[i])) for i in range(N)]\n",
    "    return np.array(c1 + c2 + c3)"
   ]
  },
  {
   "cell_type": "code",
   "execution_count": 12,
   "metadata": {},
   "outputs": [],
   "source": [
    "# La fonction principale\n",
    "def uzawa(xk1, xk2, grad_f1, grad_f2, grad_c1, grad_c2, c1, c2, epsilon=2.27):\n",
    "    # 1 Initialisation\n",
    "    lambdak = np.array([0]*(4*N + 2))\n",
    "    rho = 0.02001\n",
    "    lambdaswap = [42]*(4*N + 2)\n",
    "    compteur = 0\n",
    "    while np.linalg.norm(lambdaswap - lambdak) > epsilon:\n",
    "        compteur += 1\n",
    "        print(f\"itération {compteur} avec {xk1} et {xk2} \")\n",
    "        # 2 Décomposition\n",
    "        lambdaswap = np.copy(lambdak)\n",
    "        def decomp(xk, lk, grad_f, grad_c, alpha=1e-2, maxit=1e3, eps=1e-8):\n",
    "            i = 0\n",
    "            grad_l_xk = grad_f(xk) + np.dot(grad_c(xk), lk)\n",
    "            while (i < maxit) and (np.linalg.norm(grad_l_xk > eps)):\n",
    "                i += 1\n",
    "                grad_l_xk = grad_f(xk) + np.dot(grad_c(xk), lk)\n",
    "                xk = xk - alpha*grad_l_xk\n",
    "            return xk\n",
    "        xk1 = decomp(xk1, lambdak[0:2*N+1], grad_funi, grad_c1)\n",
    "        xk2 = decomp(xk2, lambdak[2*N+1:], grad_funi, grad_c2)\n",
    "        # 3 Coordination\n",
    "        c1 = cont1(xk1, xk2)\n",
    "        c2 = cont2(xk1, xk2)\n",
    "        for i in range(0, 2*N+1):\n",
    "            lambdak[i] = max(0, lambdak[i] + rho*c1[i])\n",
    "            lambdak[i + 2*N+1] = max(0, lambdak[i + 2*N+1] + rho*c2[i])\n",
    "        print(f\"lambdak = {lambdak}\")\n",
    "    plt.plot(list(range(N)), xk1, color='red')\n",
    "    plt.plot(list(range(N)), xk2, color='blue')\n",
    "    plt.plot(list(range(N)), [Pmax]*N, color='green')\n",
    "    return xk1, xk2"
   ]
  },
  {
   "cell_type": "markdown",
   "metadata": {},
   "source": [
    "Etant donné que le bilan de la question 3 est que ce n'était pas faisable, on arrive effectivement à un algorithme non fonctionnel."
   ]
  },
  {
   "cell_type": "markdown",
   "metadata": {},
   "source": [
    "Après de multiples tentatives, la source des problèmes semble être en premier lieu le rho utilisé dans Uzawa : pour toute valeur inférieure ou égale à 0.20000 il ne se passe rien, et pour toute valeur strictement supérieure à 0.2000 l'algorithme diverge (oui toute valeur, même 0.200000000001 ...)."
   ]
  }
 ],
 "metadata": {
  "kernelspec": {
   "display_name": "Python 3",
   "language": "python",
   "name": "python3"
  },
  "language_info": {
   "codemirror_mode": {
    "name": "ipython",
    "version": 3
   },
   "file_extension": ".py",
   "mimetype": "text/x-python",
   "name": "python",
   "nbconvert_exporter": "python",
   "pygments_lexer": "ipython3",
   "version": "3.7.6"
  }
 },
 "nbformat": 4,
 "nbformat_minor": 2
}
