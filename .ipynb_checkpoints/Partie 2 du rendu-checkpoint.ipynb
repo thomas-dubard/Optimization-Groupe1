{
 "cells": [
  {
   "cell_type": "markdown",
   "metadata": {},
   "source": [
    "# Partie 2 du rendu"
   ]
  },
  {
   "cell_type": "markdown",
   "metadata": {},
   "source": [
    "Elise Costa et Thomas Dubard"
   ]
  },
  {
   "cell_type": "markdown",
   "metadata": {},
   "source": [
    "## 2/ Etude et résolution numérique"
   ]
  },
  {
   "cell_type": "markdown",
   "metadata": {},
   "source": [
    "### Q.1"
   ]
  },
  {
   "cell_type": "markdown",
   "metadata": {},
   "source": [
    "Pour que $\\tilde{p}$ soit bien définie, il nous suffit d'imposer $c$ et les $P_k$ continues par morceaux (et donc les $I_k$ continues par morceaux et les $q_k$ de classe $C^1$)."
   ]
  },
  {
   "cell_type": "markdown",
   "metadata": {},
   "source": [
    "On essaie de déterminer si $\\tilde p$ est convexe. Pour $0 \\leqslant x \\leqslant y$, $\\lambda \\in [0,1]$ :\n",
    "\n",
    "\n",
    "$\\tilde{p}(\\lambda x + (1-\\lambda)y) - \\lambda \\tilde p (x) - (1-\\lambda) \\tilde p (y)=  \\int_{0}^{\\lambda x + (1-\\lambda)y} c(t)P(t) \\, \\mathrm{d}t - \\lambda  \\int_{0}^{x} c(t)P(t) \\, \\mathrm{d}t  - (1-\\lambda)\\int_{0}^{y} c(t)P(t) \\, \\mathrm{d}t   $\n",
    "\n",
    "En posant $f(t) = c(t)P(t)$ pour tout $t$ positif :\n",
    "\n",
    "$\\tilde{p}(\\lambda x + (1-\\lambda)y) - \\lambda \\tilde p (x) - (1-\\lambda) \\tilde p (y)$\n",
    "\n",
    "$= \\lambda ( \\int_{0}^{\\lambda x + (1-\\lambda)y} f(t) \\, \\mathrm{d}t -  \\int_{0}^{x}f(t) \\, \\mathrm{d}t) )$ + $(1-\\lambda)(\\int_{0}^{\\lambda x + (1-\\lambda)y} f(t) \\, \\mathrm{d}t - \\int_{0}^{y} f(t) \\, \\mathrm{d}t ) $\n",
    "\n",
    "$= \\lambda ( \\int_{x}^{\\lambda x + (1-\\lambda)y} f(t) \\, \\mathrm{d}t  - (1-\\lambda)\\int_{\\lambda x + (1-\\lambda)y}^{y} f(t) \\, \\mathrm{d}t $ par la relation de Chasles\n",
    "\n",
    "$= \\lambda \\int_{x}^{y} f(t) \\, \\mathrm{d}t - \\int_{\\lambda x + (1-\\lambda)y}^{y} f(t) \\, \\mathrm{d}t $\n",
    "\n",
    "$\\leqslant  \\underbrace{(1 - \\lambda)}_{\\leqslant 0} \\int_{x}^{y} \\underbrace{f(t)}_{\\ge 0} \\mathrm{d}t $ car $x \\leqslant y$\n",
    "\n",
    "$ \\leqslant 0$\n",
    "\n",
    "Donc  $\\tilde p$ en convexe en $T$ (et elle est convexe en $P_k$ par linéarité de l'intégrale).\n",
    "\n",
    "\n",
    "Donc le problème est convexe."
   ]
  },
  {
   "cell_type": "markdown",
   "metadata": {},
   "source": [
    "Par continuité de l'intégrale, $\\tilde p$ est continue sur le compact $[0, T_{\\infty}]x[0,P_{max}]^n$ ( où $T_{\\infty}$ serait le temps de vie de la station ou un temps d'étude). Donc il existe un minimum global."
   ]
  },
  {
   "cell_type": "markdown",
   "metadata": {},
   "source": [
    "A priori, il n'est pas unique : si deux voitures ont les mêmes caractéristiques, alors leurs profil de charge seront identiques ou complémentaires."
   ]
  },
  {
   "cell_type": "markdown",
   "metadata": {},
   "source": [
    "On va résoudre ce problème avec l'algorithme d'Uzawa car le problème est bien dans les conditions."
   ]
  },
  {
   "cell_type": "markdown",
   "metadata": {},
   "source": [
    "### Q.2"
   ]
  },
  {
   "cell_type": "markdown",
   "metadata": {},
   "source": [
    "Ordres de grandeur :\n",
    "\n",
    "$U_{réseau} = 230V$\n",
    "\n",
    "$\\forall k, P_k \\simeq 10kW$\n",
    "\n",
    "$\\forall k, \\Delta t_k = t_{k,f} - t_{k,i} \\simeq 2-12h$\n",
    "\n",
    "capacité énergétique $\\simeq 100kWh$\n",
    "\n",
    "$I_k =\\left\\{\n",
    "\\begin{array}{l}\n",
    "  XXXXXX \\ si \\ superchargeurs \\ (Tesla...) \\\\\n",
    "  XXXXXX \\ chargeurs \\ normaux\n",
    "\\end{array}\n",
    "\\right.$\n"
   ]
  },
  {
   "cell_type": "markdown",
   "metadata": {},
   "source": [
    "Algorithme de résolution :"
   ]
  },
  {
   "cell_type": "code",
   "execution_count": 10,
   "metadata": {},
   "outputs": [],
   "source": [
    "# les importations nécessaires :\n",
    "\n",
    "import matplotlib.pyplot as plt\n",
    "import numpy as np\n",
    "import random\n",
    "import math\n",
    "import time"
   ]
  },
  {
   "cell_type": "code",
   "execution_count": 11,
   "metadata": {},
   "outputs": [
    {
     "data": {
      "text/plain": [
       "\"\\nOn se place directement entre t_0 et t_f.\\nAlors N correspond à l'échantillonage entre les deux.\\n\""
      ]
     },
     "execution_count": 11,
     "metadata": {},
     "output_type": "execute_result"
    }
   ],
   "source": [
    "\"\"\"\n",
    "On se place directement entre t_0 et t_f.\n",
    "Alors N correspond à l'échantillonage entre les deux.\n",
    "\"\"\""
   ]
  },
  {
   "cell_type": "code",
   "execution_count": 12,
   "metadata": {},
   "outputs": [],
   "source": [
    "# les constantes :\n",
    "\n",
    "N = 100\n",
    "U = 230.0\n",
    "#c = np.array([1.0 for _ in range(N)]) # coût constant\n",
    "#c = np.array([2.0*(math.cos(i) + 1.1) for i in range(N)]) # coût oscillant\n",
    "c = np.array([(2.0*(i%3) + 1.0) for i in range(N)]) # coût \"triangulaire\"\n",
    "Qf = 15.0\n",
    "Qi = 0.0\n",
    "t_f = 10.0\n",
    "t_i = 0.0\n",
    "P_max = 1.5*(Qf-Qi)/(t_f - t_i) * U\n",
    "P_0 = [(Qf-Qi)/(t_f - t_i) * U]*N\n",
    "W_0 = set([0])\n",
    "In_plus = [[0 if x!=k else 1 for x in range(N)] for k in range(N)]\n",
    "In_moins = [[0 if x!=k else -1 for x in range(N)] for k in range(N)]\n",
    "A = np.array([[-(t_f - t_i)/(N*U)]*N] + In_moins + In_plus)\n",
    "cst_pk = 0.1"
   ]
  },
  {
   "cell_type": "code",
   "execution_count": 14,
   "metadata": {},
   "outputs": [],
   "source": [
    "# les fonctions intermédiaires\n",
    "\n",
    "def fun(x):\n",
    "    return np.dot(c, x)\n",
    "\n",
    "def grad_fun(x):\n",
    "    return c\n",
    "\n",
    "def grad_c(x):\n",
    "    return A.T\n",
    "\n",
    "def cont(x):\n",
    "    c1 = [(Qf - Qi) - (t_f - t_i)*sum(y for y in x)/(N * U)]\n",
    "    c2 = [-y for y in x]\n",
    "    c3 = [y - P_max for y in x]\n",
    "    return np.array(c1 + c2 + c3)\n",
    "\n",
    "def test_min(lamb):\n",
    "    for l in lamb:\n",
    "        if l!=None and l <= 0.0:\n",
    "            return False\n",
    "    return True"
   ]
  },
  {
   "cell_type": "code",
   "execution_count": 15,
   "metadata": {},
   "outputs": [],
   "source": [
    "# la fonction principale\n",
    "\n",
    "def contraintesactivesOQP(c, xk=P_0, lambdak=np.array([0.0]*(2*N + 1)), W=W_0):\n",
    "    debut = time.time()\n",
    "    \"\"\"\n",
    "    On implémente l'algorithme des contraintes actives QP.\n",
    "    On est ici avec G=0, f(x)=x*c, c(x)=Ax-b\n",
    "    où A=(-T/NU ... -T/NU) et b=(Qi - Qf)\n",
    "         (     -In       )      (   0   )\n",
    "         (      In       )      (  Pmax )\n",
    "    Dans l'étape (a) on cherche une direction pour la recherche.\n",
    "    On la choisit aléatoirement.\n",
    "    Elle est telle que A*p=0, ce qui est garanti par notre choix simple.\n",
    "    Elle minimise c*p.\n",
    "    \"\"\"\n",
    "    compteur = 0\n",
    "    #compteur < (N-2)*(N-1)*N\n",
    "    #cont(xk)[0]<=0\n",
    "    while (not test_min(lambdak)) and all(y<=0.05 for y in cont(xk)):\n",
    "        compteur += 1\n",
    "        print(f\"itération {compteur}, lambdak = {lambdak}\")\n",
    "        xswap = xk\n",
    "        # (a) direction pk\n",
    "        print(\"a\")\n",
    "        pk = [0]*N\n",
    "        indice = []\n",
    "        for i in W:\n",
    "            if 1 < i <= N:\n",
    "                indice.append(i - 1)\n",
    "            else:\n",
    "                indice.append(i - N - 1)\n",
    "        indice = set(indice)\n",
    "        if len(indice) < N - 3 and 0 in W:\n",
    "            liste = [x for x in range(N) if not x in indice]\n",
    "            i1 = random.randint(0, len(liste)-1)\n",
    "            y1 = liste.pop(i1)\n",
    "            i2 = random.randint(0, len(liste)-1)\n",
    "            y2 = liste.pop(i2)\n",
    "            i3 = random.randint(0, len(liste)-1)\n",
    "            y3 = liste.pop(i3)\n",
    "            sens = 2*random.randint(0, 1) - 1\n",
    "            if c[y1] != c[y2]:\n",
    "                pk[y1] = sens*(c[y2] - c[y3])/(c[y1] - c[y2])\n",
    "                pk[y2] = sens*(c[y1] - c[y3])/(c[y2] - c[y1])\n",
    "                pk[y3] = sens*1\n",
    "            else:\n",
    "                pk[y1] = 0\n",
    "                pk[y2] = -sens\n",
    "                pk[y3] = sens\n",
    "            # (b) pk != 0\n",
    "            # légitime car coût non nul à tout instant\n",
    "            norm_pk = (sum(x**2 for x in pk))**0.5\n",
    "            pk = [x/(cst_pk*norm_pk) for x in pk]\n",
    "            print(f\"b : pk={pk}, W={W}\")\n",
    "            swap = [1] + [None]*(2*N + 1)\n",
    "            if not 0 in W and pk[y1] + pk[y2] + pk[y3] < 0:\n",
    "                z = (Qi - Qf + (t_f - t_i)*sum(y for y in xk)/(N * U))\n",
    "                swap[1] = (-z/(t_f - t_i)*(pk[y1] + pk[y2] + pk[y3])/(N * U))\n",
    "            for i in range(1, N+1):\n",
    "                if not i in W and pk[i-1] < 0:\n",
    "                    swap[i+1] = (-xk[i-1]/pk[i-1])\n",
    "                if not (i+N) in W and pk[i-1] > 0:\n",
    "                    swap[i+1] = (xk[i-1]/pk[i-1])\n",
    "            alphak = min(x for x in swap if x != None)\n",
    "            xk = np.array([xk[i] + alphak * pk[i] for i in range(N)])\n",
    "            if alphak < 1:\n",
    "                j = 0\n",
    "                while swap[j] != alphak:\n",
    "                    j += 1\n",
    "                W.add(j)\n",
    "            print(f\"xk={xk}, W={W}\")\n",
    "        elif len(indice) < N - 2 and not 0 in W:\n",
    "            liste = [x for x in range(N) if not x in indice]\n",
    "            i1 = random.randint(0, len(liste)-1)\n",
    "            y1 = liste.pop(i1)\n",
    "            i2 = random.randint(0, len(liste)-1)\n",
    "            y2 = liste.pop(i2)\n",
    "            sens = 2*random.randint(0, 1) - 1\n",
    "            pk[y1] = sens*c[y2]\n",
    "            pk[y2] = -sens*c[y1]\n",
    "            # (b) pk != 0\n",
    "            # légitime car coût non nul à tout instant\n",
    "            norm_pk = (sum(x**2 for x in pk))**0.5\n",
    "            pk = [x/(cst_pk*norm_pk) for x in pk]\n",
    "            print(f\"b : pk={pk}, W={W}\")\n",
    "            swap = [1] + [None]*(2*N + 1)\n",
    "            if not 0 in W and pk[y1] + pk[y2] < 0:\n",
    "                z = (Qi - Qf + (t_f - t_i)*sum(y for y in xk)/(N * U))\n",
    "                swap[1] = (-z/(t_f - t_i)*(pk[y1] + pk[y2])/(N * U))\n",
    "            for i in range(N+1):\n",
    "                if not i in W and pk[i-1] < 0:\n",
    "                    swap[i+1] = (-xk[i-1]/pk[i-1])\n",
    "                if not (i+N) in W and pk[i-1] > 0:\n",
    "                    swap[i+1] = (xk[i-1]/pk[i-1])\n",
    "            alphak = min(x for x in swap if x != None)\n",
    "            xk = np.array([xk[i] + alphak * pk[i] for i in range(N)])\n",
    "            if alphak < 1:\n",
    "                j = 0\n",
    "                while swap[j] != alphak:\n",
    "                    j += 1\n",
    "                W.add(j)\n",
    "            print(f\"xk={xk}, W={W}\")\n",
    "        # (c) pk = 0\n",
    "        def grad_lag(xk, lambdak):\n",
    "            lambdak_full = np.array([0 if x==None else x for x in lambdak])\n",
    "            return grad_fun(xk) + np.dot(A.T, lambdak_full)\n",
    "        def step_c(xk, lk, grad_f, grad_l, c, alpha=1e-2, maxit=1e3, eps=1e-8):\n",
    "            i = 0\n",
    "            grad_l_xk = grad_l(xk, lk)\n",
    "            while (i < maxit) and (np.linalg.norm(grad_l_xk > eps)):\n",
    "                i += 1\n",
    "                grad_l_xk = grad_l(xk, lk)\n",
    "                xk = xk - alpha*grad_l_xk\n",
    "                c_xk = c(xk)\n",
    "                for j in range(len(lk)):\n",
    "                    if j in W:\n",
    "                        if lk[j] != None:\n",
    "                            lk[j] = min(0, lk[j] + alpha*c_xk[j])\n",
    "                        else:\n",
    "                            lk[j] = min(0, alpha*c_xk[j])\n",
    "                    else:\n",
    "                        lk[j] = None\n",
    "            return xk, lk\n",
    "        if pk == [0]*N:\n",
    "            print(f\"c : pk={pk}\")\n",
    "            xk, lambdak = step_c(xk, lambdak, grad_fun, grad_lag, cont)\n",
    "            lambdaswap = []\n",
    "            for i in range(2*N + 1):\n",
    "                if not i in W:\n",
    "                    lambdaswap.append(None)\n",
    "                else:\n",
    "                    lambdaswap.append(lambdak[i])\n",
    "            lambdak = np.array(lambdaswap)\n",
    "            def swap_choose(lamdbak):\n",
    "                i = 0\n",
    "                while i < len(lambdak) and lambdak[i] == None:\n",
    "                    i += 1\n",
    "                return i, lambdak[i]\n",
    "            swap = swap_choose(lambdak)\n",
    "            for i in range(len(lambdak)):\n",
    "                if lambdak[i] != None and lambdak[i] < swap[1]:\n",
    "                    swap = i, lambdak[i]\n",
    "            if swap[1] <= 0:\n",
    "                xk = xswap\n",
    "                W = set(x for x in W if x != swap[0])\n",
    "            print(f\"xk={xk}, W={W}\")\n",
    "            lambdaswap = []\n",
    "            for i in range(2*N + 1):\n",
    "                if not i in W:\n",
    "                    lambdaswap.append(None)\n",
    "                else:\n",
    "                    lambdaswap.append(lambdak[i])\n",
    "            lambdak = np.array(lambdaswap)\n",
    "    fin = time.time()\n",
    "    print(f\"ça a pris {fin - debut} secondes pour N={N}, cont={cont(xk)} !\")\n",
    "    c = [x*(np.mean(xk)/np.mean(c)) for x in c]\n",
    "    plt.plot(list(range(N)), xswap, color='red')\n",
    "    plt.plot(list(range(N)), c, color='blue')\n",
    "    plt.plot(list(range(N)), [P_max]*N, color='green')\n",
    "    plt.plot(list(range(N)), P_0, color='yellow')\n",
    "    plt.show()\n",
    "    return xswap"
   ]
  },
  {
   "cell_type": "markdown",
   "metadata": {},
   "source": [
    "Commentaire sur les résultats :"
   ]
  },
  {
   "cell_type": "markdown",
   "metadata": {},
   "source": [
    "## Etude avancée"
   ]
  },
  {
   "cell_type": "markdown",
   "metadata": {},
   "source": [
    "### Q.3"
   ]
  },
  {
   "cell_type": "markdown",
   "metadata": {},
   "source": [
    "Par linéarité de l'intégrale, on peut décomposer $\\tilde p$ en :\n",
    "\n",
    "$\\tilde p(T,P_1,...,P_n) = \\sum \\limits_{{k=1}}^n  \\int_{0}^{T} c(t)P_k(t) \\, \\mathrm{d}t = \\sum \\limits_{{k=1}}^n \\tilde p_k(T,P_k) $\n",
    "\n",
    "Néanmoins, on ne peut pas opérer cette décomposition sur la contrainte somme, car il est nécessaire d'avoir interdépendance :\n",
    "\n",
    "$contrainte(T,P_1,...,P_n) = \\sum \\limits_{{k=1}}^n P_k - P_{max} \\leqslant 0$\n",
    "\n",
    "Il faudrait répartir le facteur ^$P_{max}$ entre les $P_k$ ce qui ets justement le but du problème."
   ]
  },
  {
   "cell_type": "markdown",
   "metadata": {},
   "source": [
    "Preuve cas $len(indice) < N-3$ et $0 \\in W$ :\n",
    "\n",
    "    * on choisit au hasard trois directions hors d'indice\n",
    "    * on doit alors choisir $p_i$, $p_j$, $p_k$ dans ces coordonnées tels que :\n",
    "\n",
    "$\\left\\{\n",
    "\\begin{array}{l}\n",
    "  c_ip_i + c_jp_j + c_kp_k = 0 \\\\\n",
    "  p_i + p_j + p_k = 0\n",
    "\\end{array}\n",
    "\\right.$\n",
    "\n",
    "On choisit $p_k = 1$ donc :\n",
    "\n",
    "$\\left\\{\n",
    "\\begin{array}{l}\n",
    "  (c_i - c_j)p_i = c_j - c_k \\\\\n",
    "  (c_j - c_i)p_j = c_i - c_k\n",
    "\\end{array}\n",
    "\\right.$\n",
    "\n",
    "Preuve cas $len(indice) < N-2$ et $0 \\in W$ :\n",
    "\n",
    "    * on choisit au hasard deux directions hors d'indice\n",
    "    * on doit alors choisir p_i, p_j dans ces coordonnées tels que :\n",
    "    \n",
    "$c_ip_i + c_jp_j = 0$, on choisit $p_i = c_j$ et $p_j = -c_i$\n",
    "\n",
    "Preuve cas restant :\n",
    "\n",
    "    * on a au mieux un indice de libre mais $c_ip_i = 0$ le rend nul et les contraintes annulant tous les autres indices"
   ]
  },
  {
   "cell_type": "code",
   "execution_count": null,
   "metadata": {},
   "outputs": [],
   "source": []
  }
 ],
 "metadata": {
  "kernelspec": {
   "display_name": "Python 3",
   "language": "python",
   "name": "python3"
  },
  "language_info": {
   "codemirror_mode": {
    "name": "ipython",
    "version": 3
   },
   "file_extension": ".py",
   "mimetype": "text/x-python",
   "name": "python",
   "nbconvert_exporter": "python",
   "pygments_lexer": "ipython3",
   "version": "3.7.4"
  }
 },
 "nbformat": 4,
 "nbformat_minor": 2
}
