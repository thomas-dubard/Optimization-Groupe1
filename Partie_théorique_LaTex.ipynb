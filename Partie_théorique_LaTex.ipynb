{
 "cells": [
  {
   "cell_type": "markdown",
   "metadata": {},
   "source": [
    "# Partie théorique"
   ]
  },
  {
   "cell_type": "markdown",
   "metadata": {},
   "source": [
    "Ce projet d'optimisation a été réalisé par Elise Costa et Thomas Dubard, dans le Groupe 1 pour les PC d'optimisation."
   ]
  },
  {
   "cell_type": "markdown",
   "metadata": {},
   "source": [
    "## Notations et modélisation du problème"
   ]
  },
  {
   "cell_type": "markdown",
   "metadata": {},
   "source": [
    "![Figuré 1 - Notations](Notation.png)"
   ]
  },
  {
   "cell_type": "markdown",
   "metadata": {},
   "source": [
    " $ \\ \\ \\ \\ \\ \\ \\ \\ \\ \\ \\ \\ \\ \\ \\ \\ \\ \\ \\ \\ \\ \\ \\ \\ \\ \\ \\ \\ \\ \\ \\ \\ \\ \\ \\ \\ \\ \\ \\ \\ \\ \\ \\ \\ \\ \\ \\ \\ \\ \\ \\ \\ \\ \\ \\ \\ \\ \\ \\ \\ \\ \\ \\ \\ \\ \\ \\ \\ \\ \\ \\ \\ \\ \\ \\ \\ \\ \\ \\ \\ \\ \\ \\ \\ \\ \\ \\ \\ \\ \\ \\ \\ \\ \\ \\ \\ \\$**Figuré 1 - Notations**"
   ]
  },
  {
   "cell_type": "markdown",
   "metadata": {},
   "source": [
    "On note $\\color{red} {T}$ l'instant présent auquel on est en train de faire les calculs.\n",
    "\n",
    "A l'instant $T$, il y a $\\color{red} {N(T)}$ voitures en chargement numérotées par des indices $\\color{red} {j}$.\n",
    "\n",
    "On note $\\color{red} {t_{j,0}}$ le moment où arrive la voiture $j$ et $\\color{red} {t_{j,f}}$ celui où elle part. On note $\\color{red} {SOC_{j,0}}$ le pourcentage de charge de la voiture $j$ au moment où elle arrive (charge relative) et $\\color{red} {SOC_{j,f}}$ celui qu'elle devra avoir atteint. En notant $\\color{red} {e_{j,max}}$ la charge maximale de la voiture $j$ (charge absolue), on a $ \\color{red} {e_{j,0}} = e_{j,max}SOC_{j,0}$ et $\\color{red} { e_{j,f} }= e_{j,max}SOC_{j,f}$ avec $e_{j,0}$ l'état initial de charge de la voiture et $e_{j,f}$ l'état final de charge voulu par l'utilisateur.\n",
    "\n",
    "\n",
    "On note $\\color{red} {e_j(T)}$ l'état réel de charge de la voiture $j$ à l'instant $T$.\n",
    "\n",
    "Il y a $\\color{red} {n}$ chargeurs numérotés par des indices $\\color{red} {k}$.\n",
    "\n",
    "On introduit  $\\color{red} {U}$ la tension secteur. En France, $U = 230 V$.\n",
    "\n",
    "On note $\\color{red} {I_k(T)}$ l'intensité que délivre le $k$-ième chargeur à l'instant $T$.\n",
    "\n",
    "On note $\\color{red} {I_{totale}(T)}$ l'intensité totale délivrée par tous les chargeurs de la station à l'instant $T$, c'est-à-dire l'intensité qui parcourt le câble directement issu du système d'ordonnancement.\n",
    "\n",
    "On note $\\color{red} {P_k(T)}$ la puissance délivrée par la borne $k$ à l'instant $T$ (physiquement cela revient à la puissance reçue par le système borne-batterie, donc $P_k = U * I_k$ en convention récepteur, et l'opposé en convention générateur i.e. si la borne va au contraire puiser de l'énergie dans la batterie de la voiture) et $\\color{red} {P_{totale}(T)}$ celle délivrée par le système d'ordonnancement à l'ensemble des bornes. On note $\\color{red} {P_{max}}$ la puissance maximale supportée par le réseau.\n",
    "\n",
    "Remarques :\n",
    "1. Ici l'exemple ci-dessus était simple, mais comme les chargeurs et les voitures sont indicés différemment (afin de gérer le changement constant du parc de voiture en cours de recharge), il est important d'inclure un critère reliant ces deux quantités.\n",
    "1. Ici on note $P_{max}$ la puissance maximale supportée par le réseau. Elle regroupe la puissance maximale que l'on peut raisonnablement puiser dans le réseau (il faut une offre électrique suffisante), mais aussi la puissance maximale supportée par les éléments du système (il faut éviter la surchauffedes câbles, batteries, chargeurs, ...). Si besoin, on pourrait distinguer ces deux notions."
   ]
  },
  {
   "cell_type": "markdown",
   "metadata": {},
   "source": [
    "![Figuré 2 - Exemple](Example.png)"
   ]
  },
  {
   "cell_type": "markdown",
   "metadata": {},
   "source": [
    " $ \\ \\ \\ \\ \\ \\ \\ \\ \\ \\ \\ \\ \\ \\ \\ \\ \\ \\ \\ \\ \\ \\ \\ \\ \\ \\ \\ \\ \\ \\ \\ \\ \\ \\ \\ \\ \\ \\ \\ \\ \\ \\ \\ \\ \\ \\ \\ \\ \\ \\ \\ \\ \\ \\ \\ \\ \\ \\ \\ \\ \\ \\ \\ \\ \\ \\ \\ \\ \\ \\ \\ \\ \\ \\ \\ \\ \\ \\ \\ \\ \\ \\ \\ \\ \\ \\ \\ \\ \\ \\ \\ \\ \\ \\ \\ \\ \\$**Figuré 2 - Exemple**"
   ]
  },
  {
   "cell_type": "markdown",
   "metadata": {},
   "source": [
    "Ici la voiture 3 branchée sur le chargeur 3 se décharge afin de fournir aux deux autres couples voitures-chargeurs de la puissance supplémentaire $- P_3$, en plus de $P_{tot}$ prélevée dans le réseau par le système d'ordonnancement. Ainsi toutes les puissances sont en convention récepteur, sauf pour le système 3 qui en convention générateur fournit de la puissance au reste, d'où $P_3 = - \\ U * I_3$."
   ]
  },
  {
   "cell_type": "markdown",
   "metadata": {},
   "source": [
    "## Q.1"
   ]
  },
  {
   "cell_type": "markdown",
   "metadata": {},
   "source": [
    "![Figuré 1 - Exemple d'état de flottes à une station de recharge](Figure1.png)"
   ]
  },
  {
   "cell_type": "markdown",
   "metadata": {},
   "source": [
    " $ \\ \\ \\ \\ \\ \\ \\ \\ \\ \\ \\ \\ \\ \\ \\ \\ \\ \\ \\ \\ \\ \\ \\ \\ \\ \\ \\ \\ \\ \\ \\ \\ \\ \\ \\ \\ \\ \\ \\ \\ \\ \\ \\ \\ \\ \\ \\ \\ \\ \\ \\ \\ \\ \\ \\ \\ \\ \\ \\ \\ \\ \\ \\ \\$**Figuré 3 - Exemple d'état de flottes à une station de recharge**"
   ]
  },
  {
   "cell_type": "markdown",
   "metadata": {},
   "source": [
    "On pose $C$ la fonction de coût de l'électricté en $Euro/Wh$ définie par $C(T) =\\left\\{\n",
    "\\begin{array}{l}\n",
    "  c_{creux} \\ si \\ T \\ est \\ pendant \\ les \\ heures \\ creuses\\\\\n",
    "  c_{plein} \\ sinon\n",
    "\\end{array}\n",
    "\\right.$\n",
    "\n",
    "avec $c_{creux}$ et $c_{plein}$ des constantes positives.\n",
    "\n",
    "La fonction de prix de l'électricité consommée par l'ensemble de la station $p$ est donc définie par $p(T) =  \\int_{0}^{T} C(t)P_{totale}(t) \\, \\mathrm{d}t $.\n",
    "\n",
    "Or : $P_{totale}(T) = UI_{totale}(T)$ à chaque instant T.\n",
    "\n",
    "Comme $U$ est une constante strictement positive, on s'intéresse à minimiser la fonction $\\tilde{p}$ définie par $\\tilde{p}(T) =  \\int_{0}^{T} C(t)I_{totale}(t) \\, \\mathrm{d}t $.\n",
    "\n",
    "Or la loi des noeuds donne : $ I_{totale}(T) = \\sum \\limits_{{k=1}}^n I_k(T)$ à chaque instant $T$, d'après le figuré 1 ci-dessus.\n",
    "\n",
    "Ainsi, $\\tilde{p}(T) =  \\int_{0}^{T} C(t)\\sum \\limits_{{k=1}}^n I_k(t) \\, \\mathrm{d}t $.\n"
   ]
  },
  {
   "cell_type": "markdown",
   "metadata": {},
   "source": [
    "## Q.2"
   ]
  },
  {
   "cell_type": "markdown",
   "metadata": {},
   "source": [
    "Une charge peut s'exprimer en $A.h$."
   ]
  },
  {
   "cell_type": "markdown",
   "metadata": {},
   "source": [
    "Supposons que la voiture $j$ soit en train de charger au $k$-ième chargeur.\n",
    "\n",
    "On a : $ e_{j}(t_{j,f}) - e_{j,0} =  \\int_{t_{j,0}}^{t_{j,f}} I_k(t) \\, \\mathrm{d}t = e_{j,f} - e_{j,0}$ si la voiture a bien été chargée.\n",
    "\n",
    "Plus précisément : $\\forall  T \\in [t_{j,0},t_{j,f}], e_{j}(T) - e_{j,0} =  \\int_{t_{j,f}}^{T} I_k(t) \\, \\mathrm{d}t$"
   ]
  },
  {
   "cell_type": "markdown",
   "metadata": {},
   "source": [
    "## Q.3"
   ]
  },
  {
   "cell_type": "markdown",
   "metadata": {},
   "source": [
    "On cherche à prouver le modèle ci-dessus en comparant l'intégrale temporelle de l'intensité et la charge."
   ]
  },
  {
   "cell_type": "code",
   "execution_count": 36,
   "metadata": {},
   "outputs": [
    {
     "data": {
      "image/png": "[encoded data removed]",
      "text/plain": [
       "<Figure size 432x288 with 1 Axes>"
      ]
     },
     "metadata": {
      "needs_background": "light"
     },
     "output_type": "display_data"
    }
   ],
   "source": [
    "import matplotlib.pyplot as plt\n",
    "\n",
    "texte = open('donnees-projet-gr1.txt', 'r')\n",
    "temps = []\n",
    "intensité = []\n",
    "charge = []\n",
    "\n",
    "for ligne in texte:\n",
    "    swap = ligne.split()\n",
    "    temps.append(float(swap[0]))\n",
    "    intensité.append(float(swap[1]))\n",
    "    charge.append(float(swap[2]))\n",
    "\n",
    "intagreg = [charge[0]]\n",
    "n = len(temps)\n",
    "\n",
    "for k in range(1, n):\n",
    "    h = intensité[k] + intensité[k - 1]\n",
    "    b = temps[k] - temps[k - 1]\n",
    "    intagreg.append((h * b / (2 * 500)) + intagreg[-1])\n",
    "\n",
    "plt.plot(temps, charge, color='red')\n",
    "plt.plot(temps, intagreg, color='blue')\n",
    "plt.show()"
   ]
  },
  {
   "cell_type": "markdown",
   "metadata": {},
   "source": [
    "## Q.4"
   ]
  },
  {
   "cell_type": "markdown",
   "metadata": {},
   "source": [
    "#### Contraintes"
   ]
  },
  {
   "cell_type": "markdown",
   "metadata": {},
   "source": [
    "1. Il y a moins de voitures qui chargent que de chargeurs : $\\forall  T, N(T) \\leqslant n$\n",
    "1. Toutes les voitures ont effectivement atteint la charge désirée par l'utilisateur lorsqu'il revient la chercher : $\\forall  j, e_{j}(t_{j,f}) = e_{j,f} $\n",
    "1. La loi des noeuds est vérifiée :  $\\forall  T, I_{totale}(T) = \\sum \\limits_{{k=1}}^n I_k(T)$.\n",
    "1. L'intensité délivrée par chaque borne permet bien d'atteindre l'état final :  $ \\forall  j,  e_{j}(t_{j,f}) - e_{j,0} =  \\int_{t_{j,0}}^{t_{j,f}} I_k(t) \\, \\mathrm{d}t$\n",
    "1. Aucun fil du réseau ne peut supporter une puissance supérieure à  $P_{max}$ : $\\forall  T, \\forall  k, |P_{k}(T)| \\leqslant P_{max} $ i.e. $\\forall  T, \\forall  k, |I_{k}(T)| \\leqslant \\frac{P_{max}}{U}$\n",
    "1. La puissance totale supportée par le réseau ne peut excéder $P_{max}$ : $\\forall  T, |P_{totale}(T)| \\leqslant P_{max}$ i.e. $\\forall  T, |I_{totale}(T)| \\leqslant \\frac{P_{max}}{U}$"
   ]
  },
  {
   "cell_type": "markdown",
   "metadata": {},
   "source": [
    "Remarque : on aurait pu changer la contrainte 6 en imposant $\\forall  T, \\forall  k, 0 \\leqslant P_{k}(T)$ de façon à empêcher une voiture de recharger d'autres voitures. Par convention, cela signifie que $\\forall  T,  \\forall  k,0 \\leqslant I_{k}(T)$."
   ]
  },
  {
   "cell_type": "markdown",
   "metadata": {},
   "source": [
    "#### Variables de décision"
   ]
  },
  {
   "cell_type": "markdown",
   "metadata": {},
   "source": [
    "Les variables de décisions sont les $I_k$."
   ]
  },
  {
   "cell_type": "markdown",
   "metadata": {},
   "source": [
    "#### Fonction objectif"
   ]
  },
  {
   "cell_type": "markdown",
   "metadata": {},
   "source": [
    "La fonction à minimiser est $\\tilde{p}$ définie à la question 1."
   ]
  }
 ],
 "metadata": {
  "kernelspec": {
   "display_name": "Python 3",
   "language": "python",
   "name": "python3"
  },
  "language_info": {
   "codemirror_mode": {
    "name": "ipython",
    "version": 3
   },
   "file_extension": ".py",
   "mimetype": "text/x-python",
   "name": "python",
   "nbconvert_exporter": "python",
   "pygments_lexer": "ipython3",
   "version": "3.7.6"
  }
 },
 "nbformat": 4,
 "nbformat_minor": 4
}
